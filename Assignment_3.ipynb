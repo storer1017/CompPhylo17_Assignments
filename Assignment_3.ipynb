{
 "cells": [
  {
   "cell_type": "code",
   "execution_count": 1,
   "metadata": {
    "collapsed": false
   },
   "outputs": [],
   "source": [
    "#Import binomial and uniform from the stats module of the scipy library\n",
    "from scipy.stats import binom,uniform\n",
    "from scipy.stats import norm \n",
    "#import random number generator (psuedo) for binom and normal distrib.\n",
    "import random\n",
    "#import plotting curves\n",
    "#Remember that importing is case-sensitive! \n",
    "import matplotlib as plt\n",
    "import numpy as np\n",
    "#Data analysis tool import\n",
    "import pandas as pd"
   ]
  },
  {
   "cell_type": "code",
   "execution_count": 2,
   "metadata": {
    "collapsed": true
   },
   "outputs": [],
   "source": [
    "# Defining the data\n",
    "flips = [\"H\",\"T\",\"T\",\"T\",\"H\"]\n",
    "# flips = flips*100  # Uncomment (and modify) this line to create a more informative dataset\n",
    "trials = len(flips)        # Number (n) of binomial trials\n",
    "successes = sum([1 for fl in flips if fl == \"H\"])  # Counting heads as successes (k)"
   ]
  },
  {
   "cell_type": "code",
   "execution_count": 3,
   "metadata": {
    "collapsed": false
   },
   "outputs": [
    {
     "name": "stdout",
     "output_type": "stream",
     "text": [
      "0.001572864\n"
     ]
    }
   ],
   "source": [
    "#Calculating the PMF for a successes k, random number of trials n, and probability, in that order! \n",
    "#Testing to see that a random library imported correctly \n",
    "pmf1=binom.pmf(1,10,0.6)\n",
    "print(pmf1)"
   ]
  },
  {
   "cell_type": "code",
   "execution_count": 4,
   "metadata": {
    "collapsed": true
   },
   "outputs": [],
   "source": [
    "def like(successes,trials,prob,testingPrior=False):\n",
    "    if testingPrior:  # If True, this will always return 1. This can be useful if one wants\n",
    "        return 1      # to test the machinery by estimating a known distribution (the prior).\n",
    "    if prob < 0:\n",
    "        return 0\n",
    "    elif prob > 1:\n",
    "        return 0\n",
    "    else:\n",
    "        return binom.pmf(successes,trials,prob)"
   ]
  },
  {
   "cell_type": "code",
   "execution_count": 5,
   "metadata": {
    "collapsed": true
   },
   "outputs": [],
   "source": [
    "# Defining function to calculate prior density - normal\n",
    "def prior(prob):\n",
    "    return norm.pdf(prob)"
   ]
  },
  {
   "cell_type": "code",
   "execution_count": 6,
   "metadata": {
    "collapsed": true
   },
   "outputs": [],
   "source": [
    "# Defining function to calculate the unnormalized posterior density\n",
    "def posterior(successes,trials,prob):\n",
    "    posterior = prior(prob) * like(successes,trials,prob)\n",
    "    return posterior"
   ]
  },
  {
   "cell_type": "code",
   "execution_count": 16,
   "metadata": {
    "collapsed": false
   },
   "outputs": [
    {
     "name": "stdout",
     "output_type": "stream",
     "text": [
      "[array([19, 20, 16, 11, 23, 21, 21, 16, 17, 14, 16, 22, 24, 18, 19, 17, 16,\n",
      "       22, 14, 20, 18, 21, 19, 17, 20, 17, 20, 17, 17, 20, 23, 18, 15, 24,\n",
      "       16, 22, 20,  8, 22, 19, 15, 23,  9, 16, 23, 22, 15, 21, 17, 20, 21,\n",
      "        9, 19, 18, 14, 16, 21, 20, 15, 17, 19, 16, 11, 21, 20, 14, 17, 19,\n",
      "       19, 18, 16, 15, 19, 22, 20, 10, 24, 20, 18, 14, 17, 23, 10, 14, 15,\n",
      "       16, 13, 20, 18, 16, 17, 14, 12, 17, 14, 25, 24, 20, 17, 22])]\n"
     ]
    }
   ],
   "source": [
    "#Create a function to draw a random new starting value using a proposal distribution; assume it's normal in this case\n",
    "def draw_new_parameter_value_binomial_distrib(trials,prob,simulations):\n",
    "    random_choice_k=[np.random.binomial(trials,prob,simulations)]\n",
    "    return random_choice_k\n",
    "\n",
    "new_parameter=draw_new_parameter_value_binomial_distrib(60,0.3,100)\n",
    "print(new_parameter)"
   ]
  },
  {
   "cell_type": "code",
   "execution_count": 32,
   "metadata": {
    "collapsed": false
   },
   "outputs": [
    {
     "name": "stdout",
     "output_type": "stream",
     "text": [
      "[ 0.05208759  0.04302714  0.02125333  0.02125333  0.04808085  0.02125333\n",
      "  0.04808085  0.05208759  0.02125333  0.03238602  0.01976877  0.01976877\n",
      "  0.05029147  0.04302714  0.05029147  0.02952136  0.0397403   0.05029147\n",
      "  0.03238602  0.04302714  0.04302714  0.01976877  0.05208759  0.02952136\n",
      "  0.00655004  0.02125333  0.04302714  0.02952136  0.05208759  0.05208759\n",
      "  0.04808085  0.05208759  0.01976877  0.03238602  0.02952136  0.0397403\n",
      "  0.05029147  0.04808085  0.00577531  0.04302714  0.04302714  0.02952136\n",
      "  0.05208759  0.02952136  0.05208759  0.05029147  0.03238602  0.03238602\n",
      "  0.03238602  0.04808085  0.04808085  0.01976877  0.02125333  0.01196094\n",
      "  0.02952136  0.05029147  0.01976877  0.04302714  0.05029147  0.01976877\n",
      "  0.01202208  0.02952136  0.04302714  0.04302714  0.01202208  0.00577531\n",
      "  0.03238602  0.02952136  0.04808085  0.04808085  0.03238602  0.05208759\n",
      "  0.01976877  0.01202208  0.03238602  0.05029147  0.01202208  0.03238602\n",
      "  0.04808085  0.05208759  0.04808085  0.04808085  0.01976877  0.01202208\n",
      "  0.05029147  0.03238602  0.02952136  0.01202208  0.05208759  0.0397403\n",
      "  0.05029147  0.05208759  0.04808085  0.04808085  0.02952136  0.02125333\n",
      "  0.04808085  0.04808085  0.02952136  0.04808085]\n",
      "[ 12513.03479464  10336.43793764   5105.70019097   5105.70019097\n",
      "  11550.49365659   5105.70019097  11550.49365659  12513.03479464\n",
      "   5105.70019097   7780.11457672   4749.06412187   4749.06412187\n",
      "  12081.55083621  10336.43793764  12081.55083621   7091.93575533\n",
      "   9546.83659372  12081.55083621   7780.11457672  10336.43793764\n",
      "  10336.43793764   4749.06412187  12513.03479464   7091.93575533\n",
      "   1573.51944494   5105.70019097  10336.43793764   7091.93575533\n",
      "  12513.03479464  12513.03479464  11550.49365659  12513.03479464\n",
      "   4749.06412187   7780.11457672   7091.93575533   9546.83659372\n",
      "  12081.55083621  11550.49365659   1387.40753853  10336.43793764\n",
      "  10336.43793764   7091.93575533  12513.03479464   7091.93575533\n",
      "  12513.03479464  12081.55083621   7780.11457672   7780.11457672\n",
      "   7780.11457672  11550.49365659  11550.49365659   4749.06412187\n",
      "   5105.70019097   2873.38333424   7091.93575533  12081.55083621\n",
      "   4749.06412187  10336.43793764  12081.55083621   4749.06412187\n",
      "   2888.0728353    7091.93575533  10336.43793764  10336.43793764\n",
      "   2888.0728353    1387.40753853   7780.11457672   7091.93575533\n",
      "  11550.49365659  11550.49365659   7780.11457672  12513.03479464\n",
      "   4749.06412187   2888.0728353    7780.11457672  12081.55083621\n",
      "   2888.0728353    7780.11457672  11550.49365659  12513.03479464\n",
      "  11550.49365659  11550.49365659   4749.06412187   2888.0728353\n",
      "  12081.55083621   7780.11457672   7091.93575533   2888.0728353\n",
      "  12513.03479464   9546.83659372  12081.55083621  12513.03479464\n",
      "  11550.49365659  11550.49365659   7091.93575533   5105.70019097\n",
      "  11550.49365659  11550.49365659   7091.93575533  11550.49365659]\n"
     ]
    },
    {
     "ename": "ValueError",
     "evalue": "The truth value of an array with more than one element is ambiguous. Use a.any() or a.all()",
     "output_type": "error",
     "traceback": [
      "\u001b[0;31m---------------------------------------------------------------------------\u001b[0m",
      "\u001b[0;31mValueError\u001b[0m                                Traceback (most recent call last)",
      "\u001b[0;32m<ipython-input-32-5a627edd098d>\u001b[0m in \u001b[0;36m<module>\u001b[0;34m()\u001b[0m\n\u001b[1;32m     13\u001b[0m     \u001b[0mpost\u001b[0m\u001b[1;33m.\u001b[0m\u001b[0mappend\u001b[0m\u001b[1;33m(\u001b[0m\u001b[0mpost_current\u001b[0m\u001b[1;33m)\u001b[0m\u001b[1;33m\u001b[0m\u001b[0m\n\u001b[1;32m     14\u001b[0m     \u001b[1;32mreturn\u001b[0m \u001b[0mpost\u001b[0m\u001b[1;33m\u001b[0m\u001b[0m\n\u001b[0;32m---> 15\u001b[0;31m \u001b[0mtest\u001b[0m\u001b[1;33m=\u001b[0m\u001b[0mreject_or_accept\u001b[0m\u001b[1;33m(\u001b[0m\u001b[1;36m1\u001b[0m\u001b[1;33m,\u001b[0m\u001b[1;36m40\u001b[0m\u001b[1;33m,\u001b[0m\u001b[1;36m0.3\u001b[0m\u001b[1;33m,\u001b[0m\u001b[1;36m100\u001b[0m\u001b[1;33m)\u001b[0m\u001b[1;33m\u001b[0m\u001b[0m\n\u001b[0m\u001b[1;32m     16\u001b[0m \u001b[0mprint\u001b[0m\u001b[1;33m(\u001b[0m\u001b[0mtest\u001b[0m\u001b[1;33m)\u001b[0m\u001b[1;33m\u001b[0m\u001b[0m\n",
      "\u001b[0;32m<ipython-input-32-5a627edd098d>\u001b[0m in \u001b[0;36mreject_or_accept\u001b[0;34m(successes, trials, prob, simulations)\u001b[0m\n\u001b[1;32m      9\u001b[0m         \u001b[0mprint\u001b[0m\u001b[1;33m(\u001b[0m\u001b[0mp_accept\u001b[0m\u001b[1;33m)\u001b[0m\u001b[1;33m\u001b[0m\u001b[0m\n\u001b[1;32m     10\u001b[0m         \u001b[0maccept\u001b[0m\u001b[1;33m=\u001b[0m\u001b[0mnp\u001b[0m\u001b[1;33m.\u001b[0m\u001b[0mrandom\u001b[0m\u001b[1;33m.\u001b[0m\u001b[0mrand\u001b[0m\u001b[1;33m(\u001b[0m\u001b[1;33m)\u001b[0m\u001b[1;33m<\u001b[0m\u001b[0mp_accept\u001b[0m\u001b[1;33m\u001b[0m\u001b[0m\n\u001b[0;32m---> 11\u001b[0;31m         \u001b[1;32mif\u001b[0m \u001b[0maccept\u001b[0m\u001b[1;33m:\u001b[0m\u001b[1;33m\u001b[0m\u001b[0m\n\u001b[0m\u001b[1;32m     12\u001b[0m             \u001b[0mpost_current\u001b[0m\u001b[1;33m=\u001b[0m\u001b[0mpost_proposal\u001b[0m\u001b[1;33m\u001b[0m\u001b[0m\n\u001b[1;32m     13\u001b[0m     \u001b[0mpost\u001b[0m\u001b[1;33m.\u001b[0m\u001b[0mappend\u001b[0m\u001b[1;33m(\u001b[0m\u001b[0mpost_current\u001b[0m\u001b[1;33m)\u001b[0m\u001b[1;33m\u001b[0m\u001b[0m\n",
      "\u001b[0;31mValueError\u001b[0m: The truth value of an array with more than one element is ambiguous. Use a.any() or a.all()"
     ]
    }
   ],
   "source": [
    "def reject_or_accept(successes,trials,prob,simulations):\n",
    "    post=[]\n",
    "    proposal=draw_new_parameter_value_binomial_distrib(trials,prob,simulations)\n",
    "    for x in proposal:\n",
    "        post_current=posterior(successes,trials,prob)\n",
    "        post_proposal=posterior(x,trials,prob)\n",
    "        print(post_proposal)\n",
    "        p_accept=post_proposal/post_current\n",
    "        print(p_accept)\n",
    "        accept=np.random.rand()<p_accept\n",
    "        if accept:\n",
    "            post_current=post_proposal\n",
    "    post.append(post_current)\n",
    "    return post\n",
    "test=reject_or_accept(1,40,0.3,100)\n",
    "print(test)"
   ]
  },
  {
   "cell_type": "code",
   "execution_count": 33,
   "metadata": {
    "collapsed": false
   },
   "outputs": [
    {
     "ename": "SyntaxError",
     "evalue": "unexpected EOF while parsing (<ipython-input-33-646b7d255db6>, line 1)",
     "output_type": "error",
     "traceback": [
      "\u001b[0;36m  File \u001b[0;32m\"<ipython-input-33-646b7d255db6>\"\u001b[0;36m, line \u001b[0;32m1\u001b[0m\n\u001b[0;31m    class MCMC(object):\u001b[0m\n\u001b[0m                       ^\u001b[0m\n\u001b[0;31mSyntaxError\u001b[0m\u001b[0;31m:\u001b[0m unexpected EOF while parsing\n"
     ]
    }
   ],
   "source": [
    "class MCMC(object):\n",
    "    def __init__(self,parameter_values='',prior='',posterior='',likelihood='')\n",
    "        self.parameter_values=parameter_values\n",
    "        self.prior=prior\n",
    "        self.posterior=posterior\n",
    "        self.likelihood=likelihood\n",
    "        self.parameter_values_list=[]\n",
    "        self.prior_list=[]\n",
    "        self.posterior_list=[]\n",
    "        self.likelihood_list=[]"
   ]
  },
  {
   "cell_type": "code",
   "execution_count": null,
   "metadata": {
    "collapsed": false
   },
   "outputs": [],
   "source": [
    "def MCMC_sampler(prob,step):\n",
    "    #Set the current value to something random\n",
    "    value_current=1\n",
    "    #Take a sample from a normal distribution with a certain standard deviation (proposal_width) that will determine how far I propose jumps \n",
    "    proposal_width=step\n",
    "    current_proposal_value=norm(value_current,proposal_width).rvs()\n",
    "    print(proposal)\n",
    "    likelihood_current=like(successes,trials,prob)\n",
    "    #Compute the prior probability of current and proposed value \n",
    "    prior_current=norm(prior(prob),)\n",
    "    #If my proposed value is better than my old value, replace it. sample again. \n"
   ]
  },
  {
   "cell_type": "code",
   "execution_count": 34,
   "metadata": {
    "collapsed": false
   },
   "outputs": [
    {
     "ename": "SyntaxError",
     "evalue": "keyword argument repeated (<ipython-input-34-58a328c9cac6>, line 4)",
     "output_type": "error",
     "traceback": [
      "\u001b[0;36m  File \u001b[0;32m\"<ipython-input-34-58a328c9cac6>\"\u001b[0;36m, line \u001b[0;32m4\u001b[0m\n\u001b[0;31m    x=ax.set(xlabel='',xlabel='')\u001b[0m\n\u001b[0m                      ^\u001b[0m\n\u001b[0;31mSyntaxError\u001b[0m\u001b[0;31m:\u001b[0m keyword argument repeated\n"
     ]
    }
   ],
   "source": [
    "posterior_plot=MCMC_sampler(arguments)\n",
    "fig,ax=plt.subplots()\n",
    "ax.plot(posterior_plot)\n",
    "x=ax.set(xlabel='',xlabel='')"
   ]
  },
  {
   "cell_type": "code",
   "execution_count": 35,
   "metadata": {
    "collapsed": false
   },
   "outputs": [
    {
     "ename": "AttributeError",
     "evalue": "module 'matplotlib' has no attribute 'subplot'",
     "output_type": "error",
     "traceback": [
      "\u001b[0;31m---------------------------------------------------------------------------\u001b[0m",
      "\u001b[0;31mAttributeError\u001b[0m                            Traceback (most recent call last)",
      "\u001b[0;32m<ipython-input-35-f4fd5822f73d>\u001b[0m in \u001b[0;36m<module>\u001b[0;34m()\u001b[0m\n\u001b[0;32m----> 1\u001b[0;31m \u001b[0max\u001b[0m\u001b[1;33m=\u001b[0m\u001b[0mplt\u001b[0m\u001b[1;33m.\u001b[0m\u001b[0msubplot\u001b[0m\u001b[1;33m(\u001b[0m\u001b[1;33m)\u001b[0m\u001b[1;33m\u001b[0m\u001b[0m\n\u001b[0m\u001b[1;32m      2\u001b[0m \u001b[0msns\u001b[0m\u001b[1;33m.\u001b[0m\u001b[0mdistplot\u001b[0m\u001b[1;33m(\u001b[0m\u001b[0mdata\u001b[0m\u001b[1;33m,\u001b[0m\u001b[0mkde\u001b[0m\u001b[1;33m=\u001b[0m\u001b[1;32mFalse\u001b[0m\u001b[1;33m,\u001b[0m\u001b[0max\u001b[0m\u001b[1;33m=\u001b[0m\u001b[0max\u001b[0m\u001b[1;33m)\u001b[0m\u001b[1;33m\u001b[0m\u001b[0m\n\u001b[1;32m      3\u001b[0m \u001b[0m_\u001b[0m\u001b[1;33m=\u001b[0m\u001b[0max\u001b[0m\u001b[1;33m.\u001b[0m\u001b[0mset\u001b[0m\u001b[1;33m(\u001b[0m\u001b[0mtitle\u001b[0m\u001b[1;33m=\u001b[0m\u001b[1;34m'Histogram of______'\u001b[0m\u001b[1;33m,\u001b[0m\u001b[0mxlabel\u001b[0m\u001b[1;33m=\u001b[0m\u001b[1;34m''\u001b[0m\u001b[1;33m,\u001b[0m\u001b[0mylabel\u001b[0m\u001b[1;33m=\u001b[0m\u001b[1;34m''\u001b[0m\u001b[1;33m)\u001b[0m\u001b[1;33m;\u001b[0m\u001b[1;33m\u001b[0m\u001b[0m\n",
      "\u001b[0;31mAttributeError\u001b[0m: module 'matplotlib' has no attribute 'subplot'"
     ]
    }
   ],
   "source": [
    "ax=plt.subplot()\n",
    "sns.distplot(data,kde=False,ax=ax)\n",
    "_=ax.set(title='Histogram of______',xlabel='',ylabel='');"
   ]
  }
 ],
 "metadata": {
  "anaconda-cloud": {},
  "kernelspec": {
   "display_name": "Python [conda root]",
   "language": "python",
   "name": "conda-root-py"
  },
  "language_info": {
   "codemirror_mode": {
    "name": "ipython",
    "version": 3
   },
   "file_extension": ".py",
   "mimetype": "text/x-python",
   "name": "python",
   "nbconvert_exporter": "python",
   "pygments_lexer": "ipython3",
   "version": "3.5.2"
  }
 },
 "nbformat": 4,
 "nbformat_minor": 1
}
